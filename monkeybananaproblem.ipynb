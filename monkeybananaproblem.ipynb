{
  "nbformat": 4,
  "nbformat_minor": 0,
  "metadata": {
    "colab": {
      "provenance": [],
      "authorship_tag": "ABX9TyN9p/cugaS8mztWbVciUZhv",
      "include_colab_link": true
    },
    "kernelspec": {
      "name": "python3",
      "display_name": "Python 3"
    },
    "language_info": {
      "name": "python"
    }
  },
  "cells": [
    {
      "cell_type": "markdown",
      "metadata": {
        "id": "view-in-github",
        "colab_type": "text"
      },
      "source": [
        "<a href=\"https://colab.research.google.com/github/nisma01paudel/LabWork-AI/blob/master/monkeybananaproblem.ipynb\" target=\"_parent\"><img src=\"https://colab.research.google.com/assets/colab-badge.svg\" alt=\"Open In Colab\"/></a>"
      ]
    },
    {
      "cell_type": "code",
      "execution_count": 2,
      "metadata": {
        "id": "ShWSiXVfXJK9",
        "outputId": "8de30b59-08cb-4019-ed1a-14158d3b13e5",
        "colab": {
          "base_uri": "https://localhost:8080/"
        }
      },
      "outputs": [
        {
          "output_type": "stream",
          "name": "stdout",
          "text": [
            "Exploring State: Monkey: floor, Chair: floor, Banana: False, On Chair: False\n",
            "Exploring State: Monkey: floor, Chair: under_bananas, Banana: False, On Chair: False\n",
            "Exploring State: Monkey: under_bananas, Chair: under_bananas, Banana: False, On Chair: False\n",
            "Exploring State: Monkey: under_bananas, Chair: under_bananas, Banana: False, On Chair: True\n",
            "Exploring State: Monkey: under_bananas, Chair: under_bananas, Banana: True, On Chair: True\n",
            "Goal Reached!\n",
            "Solution Path:\n",
            "Monkey: floor, Chair: floor, Banana: False, On Chair: False\n",
            "Monkey: floor, Chair: under_bananas, Banana: False, On Chair: False\n",
            "Monkey: under_bananas, Chair: under_bananas, Banana: False, On Chair: False\n",
            "Monkey: under_bananas, Chair: under_bananas, Banana: False, On Chair: True\n",
            "Monkey: under_bananas, Chair: under_bananas, Banana: True, On Chair: True\n"
          ]
        }
      ],
      "source": [
        "from collections import deque\n",
        "\n",
        "class State:\n",
        "    def __init__(self, monkey_location, chair_location, has_banana=False, on_chair=False):\n",
        "        self.monkey_location = monkey_location\n",
        "        self.chair_location = chair_location\n",
        "        self.has_banana = has_banana\n",
        "        self.on_chair = on_chair\n",
        "\n",
        "    def __eq__(self, other):\n",
        "      return (self.monkey_location == other.monkey_location and\n",
        "        self.chair_location == other.chair_location and\n",
        "        self.has_banana == other.has_banana and\n",
        "        self.on_chair == other.on_chair)\n",
        "\n",
        "    def __hash__(self):\n",
        "      return hash((self.monkey_location, self.chair_location, self.has_banana, self.on_chair))\n",
        "\n",
        "    def __repr__(self):\n",
        "      return f\"Monkey: {self.monkey_location}, Chair: {self.chair_location}, Banana: {self.has_banana}, On Chair: {self.on_chair}\"\n",
        "\n",
        "\n",
        "def is_goal(state):\n",
        "    return state.has_banana\n",
        "\n",
        "def successors(state):\n",
        "    possible_states = []\n",
        "\n",
        "    # Action: Monkey moves to the chair's location\n",
        "    if state.monkey_location != state.chair_location:\n",
        "        new_state = State(state.chair_location, state.chair_location, state.has_banana, state.on_chair)\n",
        "        possible_states.append(new_state)\n",
        "\n",
        "    # Action: Monkey pushes the chair\n",
        "    if state.monkey_location == state.chair_location and state.chair_location != \"under_bananas\":\n",
        "      new_state = State(state.chair_location, \"under_bananas\", state.has_banana, state.on_chair)\n",
        "      possible_states.append(new_state)\n",
        "\n",
        "    # Action: Monkey climbs on the chair (if under bananas)\n",
        "    if state.monkey_location == state.chair_location and state.chair_location == \"under_bananas\" :\n",
        "        new_state = State(state.monkey_location, state.chair_location, state.has_banana, True)\n",
        "        possible_states.append(new_state)\n",
        "\n",
        "    # Action: Monkey grasps banana\n",
        "    if state.on_chair == True and state.chair_location == \"under_bananas\":\n",
        "      new_state = State(state.monkey_location, state.chair_location, True, True)\n",
        "      possible_states.append(new_state)\n",
        "\n",
        "    return possible_states\n",
        "\n",
        "def bfs(initial_state, goal_test, successor_function):\n",
        "    queue = deque([initial_state])\n",
        "    visited = {initial_state}\n",
        "    parent = {initial_state: None}\n",
        "\n",
        "    while queue:\n",
        "        current_state = queue.popleft()\n",
        "        print(f\"Exploring State: {current_state}\")\n",
        "\n",
        "        if goal_test(current_state):\n",
        "            print(\"Goal Reached!\")\n",
        "            path = []\n",
        "            while current_state is not None:\n",
        "                path.append(current_state)\n",
        "                current_state = parent[current_state]\n",
        "            path.reverse()\n",
        "            return path\n",
        "\n",
        "        for next_state in successor_function(current_state):\n",
        "            if next_state not in visited:\n",
        "                queue.append(next_state)\n",
        "                visited.add(next_state)\n",
        "                parent[next_state] = current_state\n",
        "    print(\"No solution found\")\n",
        "    return None\n",
        "\n",
        "# Initial state\n",
        "initial_state = State(\"floor\", \"floor\")\n",
        "\n",
        "# Call the BFS function\n",
        "solution_path = bfs(initial_state, is_goal, successors)\n",
        "\n",
        "if solution_path:\n",
        "    print(\"Solution Path:\")\n",
        "    for state in solution_path:\n",
        "        print(state)"
      ]
    }
  ]
}