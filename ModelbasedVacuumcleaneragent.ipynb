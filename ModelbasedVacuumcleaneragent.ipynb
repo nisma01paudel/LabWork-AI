{
  "nbformat": 4,
  "nbformat_minor": 0,
  "metadata": {
    "colab": {
      "provenance": [],
      "authorship_tag": "ABX9TyPHRQimG92ZM29SBO5ewTTQ",
      "include_colab_link": true
    },
    "kernelspec": {
      "name": "python3",
      "display_name": "Python 3"
    },
    "language_info": {
      "name": "python"
    }
  },
  "cells": [
    {
      "cell_type": "markdown",
      "metadata": {
        "id": "view-in-github",
        "colab_type": "text"
      },
      "source": [
        "<a href=\"https://colab.research.google.com/github/nisma01paudel/LabWork-AI/blob/master/ModelbasedVacuumcleaneragent.ipynb\" target=\"_parent\"><img src=\"https://colab.research.google.com/assets/colab-badge.svg\" alt=\"Open In Colab\"/></a>"
      ]
    },
    {
      "cell_type": "code",
      "execution_count": 1,
      "metadata": {
        "colab": {
          "base_uri": "https://localhost:8080/"
        },
        "id": "0OmhMus-UWNK",
        "outputId": "ba1a196d-62f6-463e-fec3-6457cf046fa1"
      },
      "outputs": [
        {
          "output_type": "stream",
          "name": "stdout",
          "text": [
            "Starting Model-Based Vacuum Cleaner Agent...\n",
            "Room A is dirty. Cleaning now.\n",
            "Moving to Room B.\n",
            "\n",
            "Room B is dirty. Cleaning now.\n",
            "All rooms are clean. Stopping operation.\n",
            "\n"
          ]
        }
      ],
      "source": [
        "class ModelBasedVacuumCleanerAgent:\n",
        "    def __init__(self):\n",
        "        # Initialize the environment with rooms and their dirt status\n",
        "        self.environment = {\n",
        "            'A': 'Dirty',\n",
        "            'B': 'Dirty'\n",
        "        }\n",
        "        self.current_location = 'A'  # Start in Room A\n",
        "        self.internal_model = self.environment.copy()  # Internal representation of the environment\n",
        "\n",
        "    def perceive(self):\n",
        "        # Update the internal model based on the current perception\n",
        "        self.internal_model[self.current_location] = self.environment[self.current_location]\n",
        "        return self.internal_model[self.current_location]\n",
        "\n",
        "    def act(self, perception):\n",
        "        # Perform an action based on the perception and internal model\n",
        "        if perception == 'Dirty':\n",
        "            print(f\"Room {self.current_location} is dirty. Cleaning now.\")\n",
        "            self.environment[self.current_location] = 'Clean'\n",
        "            self.internal_model[self.current_location] = 'Clean'\n",
        "        else:\n",
        "            print(f\"Room {self.current_location} is already clean.\")\n",
        "\n",
        "        # Decide the next move based on the internal model\n",
        "        if self.current_location == 'A' and self.internal_model['B'] == 'Dirty':\n",
        "            self.current_location = 'B'\n",
        "        elif self.current_location == 'B' and self.internal_model['A'] == 'Dirty':\n",
        "            self.current_location = 'A'\n",
        "        else:\n",
        "            print(\"All rooms are clean. Stopping operation.\\n\")\n",
        "            return False  # Stop the agent if all rooms are clean\n",
        "        print(f\"Moving to Room {self.current_location}.\\n\")\n",
        "        return True  # Continue operation\n",
        "\n",
        "    def run(self):\n",
        "        print(\"Starting Model-Based Vacuum Cleaner Agent...\")\n",
        "        while True:\n",
        "            perception = self.perceive()\n",
        "            if not self.act(perception):\n",
        "                break\n",
        "\n",
        "# Instantiate and run the model-based vacuum cleaner agent\n",
        "agent = ModelBasedVacuumCleanerAgent()\n",
        "agent.run()\n"
      ]
    }
  ]
}