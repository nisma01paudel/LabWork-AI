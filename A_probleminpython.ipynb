{
  "nbformat": 4,
  "nbformat_minor": 0,
  "metadata": {
    "colab": {
      "provenance": [],
      "authorship_tag": "ABX9TyPofZxgfMtwDgoRPWcacElX",
      "include_colab_link": true
    },
    "kernelspec": {
      "name": "python3",
      "display_name": "Python 3"
    },
    "language_info": {
      "name": "python"
    }
  },
  "cells": [
    {
      "cell_type": "markdown",
      "metadata": {
        "id": "view-in-github",
        "colab_type": "text"
      },
      "source": [
        "<a href=\"https://colab.research.google.com/github/nisma01paudel/LabWork-AI/blob/master/A_probleminpython.ipynb\" target=\"_parent\"><img src=\"https://colab.research.google.com/assets/colab-badge.svg\" alt=\"Open In Colab\"/></a>"
      ]
    },
    {
      "cell_type": "code",
      "execution_count": 1,
      "metadata": {
        "colab": {
          "base_uri": "https://localhost:8080/"
        },
        "id": "RdSMYJJBfk9Y",
        "outputId": "f4442275-d71f-4adf-c87a-29c0ce31610a"
      },
      "outputs": [
        {
          "output_type": "stream",
          "name": "stdout",
          "text": [
            "Solution found:\n",
            "[1, 2, 3]\n",
            "[4, 0, 5]\n",
            "[7, 8, 6]\n",
            "---------\n",
            "[1, 2, 3]\n",
            "[4, 5, 0]\n",
            "[7, 8, 6]\n",
            "---------\n",
            "[1, 2, 3]\n",
            "[4, 5, 6]\n",
            "[7, 8, 0]\n",
            "---------\n"
          ]
        }
      ],
      "source": [
        "import heapq\n",
        "\n",
        "\n",
        "class Puzzle:\n",
        "    def __init__(self, initial_state, goal_state):\n",
        "        self.initial_state = initial_state\n",
        "        self.goal_state = goal_state\n",
        "\n",
        "    def is_goal(self, state):\n",
        "        return state == self.goal_state\n",
        "\n",
        "    def find_blank(self, state):\n",
        "        for i in range(3):\n",
        "            for j in range(3):\n",
        "                if state[i][j] == 0:\n",
        "                    return i, j\n",
        "\n",
        "    def heuristic(self, state):\n",
        "        # Manhattan distance heuristic\n",
        "        distance = 0\n",
        "        for i in range(3):\n",
        "            for j in range(3):\n",
        "                value = state[i][j]\n",
        "                if value != 0:  # Ignore blank space\n",
        "                    goal_x, goal_y = divmod(value - 1, 3)\n",
        "                    distance += abs(i - goal_x) + abs(j - goal_y)\n",
        "        return distance\n",
        "\n",
        "    def successors(self, state):\n",
        "        # Generate valid successor states by moving the blank space\n",
        "        i, j = self.find_blank(state)\n",
        "        moves = [(-1, 0), (1, 0), (0, -1), (0, 1)]  # Up, Down, Left, Right\n",
        "        successors = []\n",
        "\n",
        "        for dx, dy in moves:\n",
        "            x, y = i + dx, j + dy\n",
        "            if 0 <= x < 3 and 0 <= y < 3:  # Check bounds\n",
        "                new_state = [list(row) for row in state]  # Copy state\n",
        "                new_state[i][j], new_state[x][y] = new_state[x][y], new_state[i][j]\n",
        "                successors.append(new_state)\n",
        "\n",
        "        return successors\n",
        "\n",
        "    def a_star(self):\n",
        "        # Priority queue (min-heap) to store states with priority f = g + h\n",
        "        open_list = []\n",
        "        heapq.heappush(open_list, (0, self.initial_state))\n",
        "        came_from = {}\n",
        "        g_score = {str(self.initial_state): 0}\n",
        "        f_score = {str(self.initial_state): self.heuristic(self.initial_state)}\n",
        "\n",
        "        while open_list:\n",
        "            _, current = heapq.heappop(open_list)\n",
        "\n",
        "            if self.is_goal(current):\n",
        "                return self.reconstruct_path(came_from, current)\n",
        "\n",
        "            for neighbor in self.successors(current):\n",
        "                tentative_g_score = g_score[str(current)] + 1\n",
        "\n",
        "                if str(neighbor) not in g_score or tentative_g_score < g_score[str(neighbor)]:\n",
        "                    came_from[str(neighbor)] = current\n",
        "                    g_score[str(neighbor)] = tentative_g_score\n",
        "                    f_score[str(neighbor)] = tentative_g_score + self.heuristic(neighbor)\n",
        "                    heapq.heappush(open_list, (f_score[str(neighbor)], neighbor))\n",
        "\n",
        "        return None\n",
        "\n",
        "    def reconstruct_path(self, came_from, current):\n",
        "        path = [current]\n",
        "        while str(current) in came_from:\n",
        "            current = came_from[str(current)]\n",
        "            path.append(current)\n",
        "        return path[::-1]\n",
        "\n",
        "    def print_path(self, path):\n",
        "        for step in path:\n",
        "            for row in step:\n",
        "                print(row)\n",
        "            print(\"---------\")\n",
        "\n",
        "\n",
        "# Example usage\n",
        "initial_state = [\n",
        "    [1, 2, 3],\n",
        "    [4, 0, 5],\n",
        "    [7, 8, 6],\n",
        "]\n",
        "goal_state = [\n",
        "    [1, 2, 3],\n",
        "    [4, 5, 6],\n",
        "    [7, 8, 0],\n",
        "]\n",
        "\n",
        "solver = Puzzle(initial_state, goal_state)\n",
        "solution = solver.a_star()\n",
        "\n",
        "if solution:\n",
        "    print(\"Solution found:\")\n",
        "    solver.print_path(solution)\n",
        "else:\n",
        "    print(\"No solution found.\")\n"
      ]
    }
  ]
}