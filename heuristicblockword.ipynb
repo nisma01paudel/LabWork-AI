{
  "nbformat": 4,
  "nbformat_minor": 0,
  "metadata": {
    "colab": {
      "provenance": [],
      "authorship_tag": "ABX9TyPbCoazsNOyn9uyQmXlNmKX",
      "include_colab_link": true
    },
    "kernelspec": {
      "name": "python3",
      "display_name": "Python 3"
    },
    "language_info": {
      "name": "python"
    }
  },
  "cells": [
    {
      "cell_type": "markdown",
      "metadata": {
        "id": "view-in-github",
        "colab_type": "text"
      },
      "source": [
        "<a href=\"https://colab.research.google.com/github/nisma01paudel/LabWork-AI/blob/master/heuristicblockword.ipynb\" target=\"_parent\"><img src=\"https://colab.research.google.com/assets/colab-badge.svg\" alt=\"Open In Colab\"/></a>"
      ]
    },
    {
      "cell_type": "code",
      "execution_count": 1,
      "metadata": {
        "colab": {
          "base_uri": "https://localhost:8080/"
        },
        "id": "6ardru5fVPLo",
        "outputId": "3f83e674-4fb1-4fc1-b9e7-ea8b0e410261"
      },
      "outputs": [
        {
          "output_type": "stream",
          "name": "stdout",
          "text": [
            "Heuristic value: -4\n"
          ]
        }
      ],
      "source": [
        "def calculate_heuristic(start_state, goal_state):\n",
        "    \"\"\"\n",
        "    Calculate the heuristic value of the Blocks World Problem.\n",
        "\n",
        "    Parameters:\n",
        "    start_state (list of lists): The current arrangement of blocks.\n",
        "    goal_state (list of lists): The desired arrangement of blocks.\n",
        "\n",
        "    Returns:\n",
        "    int: The heuristic value.\n",
        "    \"\"\"\n",
        "    heuristic_value = 0\n",
        "\n",
        "    # Iterate through the levels of the goal state\n",
        "    for i in range(len(goal_state)):\n",
        "        # Check if the start state has a block at this level\n",
        "        if i < len(start_state):\n",
        "            # Compare blocks in the start state with the goal state\n",
        "            if start_state[i] == goal_state[i]:\n",
        "                heuristic_value += 1  # Correct position\n",
        "            else:\n",
        "                heuristic_value -= 1  # Incorrect position\n",
        "        else:\n",
        "            heuristic_value -= 1  # Missing block in the structure\n",
        "\n",
        "    return heuristic_value\n",
        "\n",
        "\n",
        "# Example usage\n",
        "if __name__ == \"__main__\":\n",
        "    # Start state and goal state as given in the problem\n",
        "    start_state = [\"A\", \"D\", \"C\", \"B\"]  # From bottom to top\n",
        "    goal_state = [\"D\", \"C\", \"B\", \"A\"]   # From bottom to top\n",
        "\n",
        "    # Calculate the heuristic value\n",
        "    heuristic = calculate_heuristic(start_state, goal_state)\n",
        "    print(f\"Heuristic value: {heuristic}\")\n"
      ]
    }
  ]
}