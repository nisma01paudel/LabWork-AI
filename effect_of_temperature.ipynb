{
  "nbformat": 4,
  "nbformat_minor": 0,
  "metadata": {
    "colab": {
      "provenance": [],
      "authorship_tag": "ABX9TyOMpd5eeAAKflF1RHhVQiWZ",
      "include_colab_link": true
    },
    "kernelspec": {
      "name": "python3",
      "display_name": "Python 3"
    },
    "language_info": {
      "name": "python"
    }
  },
  "cells": [
    {
      "cell_type": "markdown",
      "metadata": {
        "id": "view-in-github",
        "colab_type": "text"
      },
      "source": [
        "<a href=\"https://colab.research.google.com/github/nisma01paudel/LabWork-AI/blob/master/effect_of_temperature.ipynb\" target=\"_parent\"><img src=\"https://colab.research.google.com/assets/colab-badge.svg\" alt=\"Open In Colab\"/></a>"
      ]
    },
    {
      "cell_type": "code",
      "execution_count": null,
      "metadata": {
        "id": "2drOJVqplpIo"
      },
      "outputs": [],
      "source": [
        "import math\n",
        "import random\n",
        "\n",
        "class SimulatedAnnealing:\n",
        "    def __init__(self, initial_state, energy_function):\n",
        "        self.current_state = initial_state\n",
        "        self.energy_function = energy_function\n",
        "\n",
        "    def get_random_neighbor(self):\n",
        "        # Generate a random neighbor by slightly perturbing the current state\n",
        "        return self.current_state + random.uniform(-1, 1)\n",
        "\n",
        "    def acceptance_probability(self, delta_energy, temperature):\n",
        "        # Calculate the probability of accepting an inferior state\n",
        "        if delta_energy < 0:\n",
        "            return 1.0  # Always accept if the new state is better\n",
        "        return math.exp(-delta_energy / temperature)\n",
        "\n",
        "    def anneal(self, initial_temperature, cooling_rate, iterations):\n",
        "        temperature = initial_temperature\n",
        "        states, energies = [self.current_state], [self.energy_function(self.current_state)]\n",
        "\n",
        "        for _ in range(iterations):\n",
        "            neighbor = self.get_random_neighbor()\n",
        "            current_energy = self.energy_function(self.current_state)\n",
        "            neighbor_energy = self.energy_function(neighbor)\n",
        "            delta_energy = neighbor_energy - current_energy\n",
        "\n",
        "            # Decide whether to accept the new state\n",
        "            if random.random() < self.acceptance_probability(delta_energy, temperature):\n",
        "                self.current_state = neighbor\n",
        "                states.append(self.current_state)\n",
        "                energies.append(neighbor_energy)\n",
        "\n",
        "            # Cool down the temperature\n",
        "            temperature *= cooling_rate\n",
        "\n",
        "        return states, energies\n",
        "\n",
        "\n",
        "def energy_function(x):\n",
        "    # A sample energy function (minimize the square of the state)\n",
        "    return x ** 2\n",
        "\n",
        "\n",
        "# Example usage\n",
        "if __name__ == \"__main__\":\n",
        "    initial_state = 10  # Starting state\n",
        "    initial_temperature = 100  # High initial temperature\n",
        "    cooling_rate = 0.95  # Gradual cooling\n",
        "    iterations = 100\n",
        "\n",
        "    sa = SimulatedAnnealing(initial_state, energy_function)\n",
        "    states, energies = sa.anneal(initial_temperature, cooling_rate, iterations)\n",
        "\n",
        "    print(\"Temperature Schedule and State Transitions:\")\n",
        "    print(f\"{'Step':<6}{'Temperature':<15}{'State':<10}{'Energy':<10}\")\n",
        "    temperature = initial_temperature\n",
        "    for step, (state, energy) in enumerate(zip(states, energies)):\n",
        "        print(f\"{step:<6}{temperature:<15.2f}{state:<10.2f}{energy:<10.2f}\")\n",
        "        temperature *= cooling_rate\n"
      ]
    }
  ]
}