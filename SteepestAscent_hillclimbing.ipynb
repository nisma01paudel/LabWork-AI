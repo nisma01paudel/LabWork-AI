{
  "nbformat": 4,
  "nbformat_minor": 0,
  "metadata": {
    "colab": {
      "provenance": [],
      "authorship_tag": "ABX9TyMiyRc49CWi5L4W3wfkCwGk",
      "include_colab_link": true
    },
    "kernelspec": {
      "name": "python3",
      "display_name": "Python 3"
    },
    "language_info": {
      "name": "python"
    }
  },
  "cells": [
    {
      "cell_type": "markdown",
      "metadata": {
        "id": "view-in-github",
        "colab_type": "text"
      },
      "source": [
        "<a href=\"https://colab.research.google.com/github/nisma01paudel/LabWork-AI/blob/master/SteepestAscent_hillclimbing.ipynb\" target=\"_parent\"><img src=\"https://colab.research.google.com/assets/colab-badge.svg\" alt=\"Open In Colab\"/></a>"
      ]
    },
    {
      "cell_type": "code",
      "execution_count": 1,
      "metadata": {
        "colab": {
          "base_uri": "https://localhost:8080/"
        },
        "id": "INq1TPeKk-UN",
        "outputId": "e27e0539-db12-411f-d639-0a238201459c"
      },
      "outputs": [
        {
          "output_type": "stream",
          "name": "stdout",
          "text": [
            "Goal state reached!\n",
            "[1, 2, 3]\n",
            "[4, 5, 6]\n",
            "[7, 8, 0]\n",
            "---------\n"
          ]
        }
      ],
      "source": [
        "class Puzzle:\n",
        "    def __init__(self, initial_state, goal_state):\n",
        "        self.initial_state = initial_state\n",
        "        self.goal_state = goal_state\n",
        "\n",
        "    def is_goal(self, state):\n",
        "        return state == self.goal_state\n",
        "\n",
        "    def find_blank(self, state):\n",
        "        for i in range(3):\n",
        "            for j in range(3):\n",
        "                if state[i][j] == 0:\n",
        "                    return i, j\n",
        "\n",
        "    def heuristic(self, state):\n",
        "        # Manhattan distance heuristic\n",
        "        distance = 0\n",
        "        for i in range(3):\n",
        "            for j in range(3):\n",
        "                value = state[i][j]\n",
        "                if value != 0:  # Ignore blank space\n",
        "                    goal_x, goal_y = divmod(value - 1, 3)\n",
        "                    distance += abs(i - goal_x) + abs(j - goal_y)\n",
        "        return distance\n",
        "\n",
        "    def successors(self, state):\n",
        "        # Generate valid successor states by moving the blank space\n",
        "        i, j = self.find_blank(state)\n",
        "        moves = [(-1, 0), (1, 0), (0, -1), (0, 1)]  # Up, Down, Left, Right\n",
        "        successors = []\n",
        "\n",
        "        for dx, dy in moves:\n",
        "            x, y = i + dx, j + dy\n",
        "            if 0 <= x < 3 and 0 <= y < 3:  # Check bounds\n",
        "                new_state = [list(row) for row in state]  # Copy state\n",
        "                new_state[i][j], new_state[x][y] = new_state[x][y], new_state[i][j]\n",
        "                successors.append(new_state)\n",
        "\n",
        "        return successors\n",
        "\n",
        "    def steepest_ascent(self):\n",
        "        current_state = self.initial_state\n",
        "        current_heuristic = self.heuristic(current_state)\n",
        "\n",
        "        while True:\n",
        "            successors = self.successors(current_state)\n",
        "            next_state = None\n",
        "            next_heuristic = float(\"inf\")\n",
        "\n",
        "            # Find the best successor with the steepest ascent\n",
        "            for succ in successors:\n",
        "                h = self.heuristic(succ)\n",
        "                if h < next_heuristic:\n",
        "                    next_state = succ\n",
        "                    next_heuristic = h\n",
        "\n",
        "            # If no better successor is found, stop\n",
        "            if next_heuristic >= current_heuristic:\n",
        "                break\n",
        "\n",
        "            # Move to the better state\n",
        "            current_state = next_state\n",
        "            current_heuristic = next_heuristic\n",
        "\n",
        "            # Check if goal is reached\n",
        "            if self.is_goal(current_state):\n",
        "                return current_state\n",
        "\n",
        "        return current_state\n",
        "\n",
        "    def print_state(self, state):\n",
        "        for row in state:\n",
        "            print(row)\n",
        "        print(\"---------\")\n",
        "\n",
        "\n",
        "# Example usage\n",
        "initial_state = [\n",
        "    [1, 2, 3],\n",
        "    [4, 0, 5],\n",
        "    [7, 8, 6],\n",
        "]\n",
        "goal_state = [\n",
        "    [1, 2, 3],\n",
        "    [4, 5, 6],\n",
        "    [7, 8, 0],\n",
        "]\n",
        "\n",
        "solver = Puzzle(initial_state, goal_state)\n",
        "solution = solver.steepest_ascent()\n",
        "\n",
        "if solver.is_goal(solution):\n",
        "    print(\"Goal state reached!\")\n",
        "else:\n",
        "    print(\"Local optimum reached, goal not found.\")\n",
        "solver.print_state(solution)\n"
      ]
    }
  ]
}