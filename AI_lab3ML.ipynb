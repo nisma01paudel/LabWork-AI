{
  "nbformat": 4,
  "nbformat_minor": 0,
  "metadata": {
    "colab": {
      "provenance": [],
      "authorship_tag": "ABX9TyN2fWPB+c9Sqrpwri1KAe+q",
      "include_colab_link": true
    },
    "kernelspec": {
      "name": "python3",
      "display_name": "Python 3"
    },
    "language_info": {
      "name": "python"
    }
  },
  "cells": [
    {
      "cell_type": "markdown",
      "metadata": {
        "id": "view-in-github",
        "colab_type": "text"
      },
      "source": [
        "<a href=\"https://colab.research.google.com/github/nisma01paudel/LabWork-AI/blob/master/AI_lab3ML.ipynb\" target=\"_parent\"><img src=\"https://colab.research.google.com/assets/colab-badge.svg\" alt=\"Open In Colab\"/></a>"
      ]
    },
    {
      "cell_type": "code",
      "execution_count": 1,
      "metadata": {
        "colab": {
          "base_uri": "https://localhost:8080/"
        },
        "id": "e5TA3MK7WPZT",
        "outputId": "954c705f-ae8d-4869-c5e2-7748763d0f97"
      },
      "outputs": [
        {
          "output_type": "stream",
          "name": "stdout",
          "text": [
            "AND Gate Predictions: [0 0 0 1]\n"
          ]
        }
      ],
      "source": [
        "import numpy as np\n",
        "from sklearn.linear_model import Perceptron\n",
        "\n",
        "# AND Gate Inputs and Outputs\n",
        "X = np.array([[0, 0], [0, 1], [1, 0], [1, 1]])  # Inputs\n",
        "y = np.array([0, 0, 0, 1])  # Output\n",
        "\n",
        "# Perceptron Training\n",
        "model = Perceptron(max_iter=1000, tol=1e-3)\n",
        "model.fit(X, y)\n",
        "\n",
        "# Predictions\n",
        "print(\"AND Gate Predictions:\", model.predict(X))\n"
      ]
    },
    {
      "cell_type": "code",
      "source": [
        "# OR Gate Inputs and Outputs\n",
        "X = np.array([[0, 0], [0, 1], [1, 0], [1, 1]])  # Inputs\n",
        "y = np.array([0, 1, 1, 1])  # Output\n",
        "\n",
        "# Perceptron Training\n",
        "model = Perceptron(max_iter=1000, tol=1e-3)\n",
        "model.fit(X, y)\n",
        "\n",
        "# Predictions\n",
        "print(\"OR Gate Predictions:\", model.predict(X))\n"
      ],
      "metadata": {
        "colab": {
          "base_uri": "https://localhost:8080/"
        },
        "id": "2mCdFwW-WTL9",
        "outputId": "d3e113cb-8d8c-4007-f0cf-eaa092ecc7b2"
      },
      "execution_count": 2,
      "outputs": [
        {
          "output_type": "stream",
          "name": "stdout",
          "text": [
            "OR Gate Predictions: [0 1 1 1]\n"
          ]
        }
      ]
    },
    {
      "cell_type": "code",
      "source": [
        "# XOR Gate Inputs and Outputs\n",
        "X = np.array([[0, 0], [0, 1], [1, 0], [1, 1]])  # Inputs\n",
        "y = np.array([0, 1, 1, 0])  # Output\n",
        "\n",
        "# XOR cannot be solved using a single-layer perceptron.\n",
        "# We'll print a message here.\n",
        "print(\"XOR Gate requires a multi-layer perceptron (MLP) for training.\")\n",
        "\n"
      ],
      "metadata": {
        "colab": {
          "base_uri": "https://localhost:8080/"
        },
        "id": "2rLzeO2oWUZc",
        "outputId": "86cdf41e-f7be-4c9e-eb69-04afce97f127"
      },
      "execution_count": 3,
      "outputs": [
        {
          "output_type": "stream",
          "name": "stdout",
          "text": [
            "XOR Gate requires a multi-layer perceptron (MLP) for training.\n"
          ]
        }
      ]
    },
    {
      "cell_type": "code",
      "source": [
        "# NOT Gate Inputs and Outputs\n",
        "X = np.array([[0], [1]])  # Single input\n",
        "y = np.array([1, 0])  # Output\n",
        "\n",
        "# Perceptron Training\n",
        "model = Perceptron(max_iter=1000, tol=1e-3)\n",
        "model.fit(X, y)\n",
        "\n",
        "# Predictions\n",
        "print(\"NOT Gate Predictions:\", model.predict(X))\n"
      ],
      "metadata": {
        "colab": {
          "base_uri": "https://localhost:8080/"
        },
        "id": "6i9ldlO1WaNv",
        "outputId": "3fb1cb08-7718-4c09-c77a-c9f427bd6130"
      },
      "execution_count": 4,
      "outputs": [
        {
          "output_type": "stream",
          "name": "stdout",
          "text": [
            "NOT Gate Predictions: [1 0]\n"
          ]
        }
      ]
    },
    {
      "cell_type": "code",
      "source": [
        "from sklearn.neighbors import KNeighborsClassifier\n",
        "\n",
        "# Example Data\n",
        "X = np.array([[1, 2], [2, 3], [3, 4], [5, 6]])\n",
        "y = np.array([0, 0, 1, 1])  # Class labels\n",
        "\n",
        "# Train kNN\n",
        "knn = KNeighborsClassifier(n_neighbors=3)\n",
        "knn.fit(X, y)\n",
        "\n",
        "# Predictions\n",
        "test_data = [[3, 3], [5, 5]]\n",
        "print(\"kNN Predictions:\", knn.predict(test_data))\n"
      ],
      "metadata": {
        "colab": {
          "base_uri": "https://localhost:8080/"
        },
        "id": "hQ3HzNRPWc5W",
        "outputId": "0699cae6-1a8e-4a08-fe36-fa7a67f4215e"
      },
      "execution_count": 5,
      "outputs": [
        {
          "output_type": "stream",
          "name": "stdout",
          "text": [
            "kNN Predictions: [0 1]\n"
          ]
        }
      ]
    },
    {
      "cell_type": "code",
      "source": [
        "from sklearn.svm import SVC\n",
        "\n",
        "# Example Data\n",
        "X = np.array([[1, 2], [2, 3], [3, 4], [5, 6]])\n",
        "y = np.array([0, 0, 1, 1])  # Class labels\n",
        "\n",
        "# Train SVM\n",
        "svm = SVC(kernel='linear')\n",
        "svm.fit(X, y)\n",
        "\n",
        "# Predictions\n",
        "test_data = [[3, 3], [5, 5]]\n",
        "print(\"SVM Predictions:\", svm.predict(test_data))\n"
      ],
      "metadata": {
        "colab": {
          "base_uri": "https://localhost:8080/"
        },
        "id": "uUO6cKOOWgFQ",
        "outputId": "3922bf0a-8c62-42d6-dfc1-1aede300833e"
      },
      "execution_count": 7,
      "outputs": [
        {
          "output_type": "stream",
          "name": "stdout",
          "text": [
            "SVM Predictions: [1 1]\n"
          ]
        }
      ]
    },
    {
      "cell_type": "code",
      "source": [
        "from sklearn.cluster import KMeans\n",
        "\n",
        "# Example Data\n",
        "X = np.array([[1, 2], [2, 3], [3, 4], [8, 8], [9, 10], [10, 12]])\n",
        "\n",
        "# Train k-Means\n",
        "kmeans = KMeans(n_clusters=2, random_state=0)\n",
        "kmeans.fit(X)\n",
        "\n",
        "# Cluster Assignments\n",
        "print(\"Cluster Centers:\", kmeans.cluster_centers_)\n",
        "print(\"Cluster Labels:\", kmeans.labels_)\n"
      ],
      "metadata": {
        "colab": {
          "base_uri": "https://localhost:8080/"
        },
        "id": "dMZ0qxEiWrge",
        "outputId": "d852629a-031d-445a-a1da-6acd5016a3e0"
      },
      "execution_count": 10,
      "outputs": [
        {
          "output_type": "stream",
          "name": "stdout",
          "text": [
            "Cluster Centers: [[ 9. 10.]\n",
            " [ 2.  3.]]\n",
            "Cluster Labels: [1 1 1 0 0 0]\n"
          ]
        }
      ]
    },
    {
      "cell_type": "code",
      "source": [
        "import numpy as np\n",
        "from sklearn.linear_model import Perceptron\n",
        "\n",
        "# Prepare data for ODD/EVEN classification\n",
        "X = np.array([[0], [1], [2], [3], [4], [5], [6], [7], [8], [9]])  # Input numbers\n",
        "y = np.array([0, 1, 0, 1, 0, 1, 0, 1, 0, 1])  # 0 = EVEN, 1 = ODD (based on last bit)\n",
        "\n",
        "# Train perceptron\n",
        "model = Perceptron(max_iter=1000, tol=1e-3)\n",
        "model.fit(X % 2, y)  # Use the last bit (0 or 1) as input\n",
        "\n",
        "# Test perceptron\n",
        "test_data = np.array([[10], [11], [12], [13]])\n",
        "predictions = model.predict(test_data % 2)\n",
        "print(\"ODD/EVEN Predictions:\", [\"ODD\" if p == 1 else \"EVEN\" for p in predictions])\n"
      ],
      "metadata": {
        "colab": {
          "base_uri": "https://localhost:8080/"
        },
        "id": "ndYjpab_XJBW",
        "outputId": "8bebb8ea-146f-4670-8bc0-5bfd884382a6"
      },
      "execution_count": 11,
      "outputs": [
        {
          "output_type": "stream",
          "name": "stdout",
          "text": [
            "ODD/EVEN Predictions: ['EVEN', 'ODD', 'EVEN', 'ODD']\n"
          ]
        }
      ]
    },
    {
      "cell_type": "code",
      "source": [
        "import numpy as np\n",
        "\n",
        "# Define ID and phone number pairs\n",
        "ids = np.array([[1, 0, 0], [0, 1, 0], [0, 0, 1]])  # Binary ID representation\n",
        "phones = np.array([[1, 0, 1], [1, 1, 0], [0, 1, 1]])  # Binary phone representation\n",
        "\n",
        "# Compute weight matrix\n",
        "W = np.dot(ids.T, phones)\n",
        "\n",
        "# Function to retrieve association\n",
        "def bam_association(input_vector, weight_matrix, direction=\"id_to_phone\"):\n",
        "    if direction == \"id_to_phone\":\n",
        "        return np.sign(np.dot(input_vector, weight_matrix))\n",
        "    elif direction == \"phone_to_id\":\n",
        "        return np.sign(np.dot(input_vector, weight_matrix.T))\n",
        "\n",
        "# Test BAM for ID to phone association\n",
        "test_id = np.array([1, 0, 0])  # Example ID\n",
        "predicted_phone = bam_association(test_id, W, direction=\"id_to_phone\")\n",
        "print(\"Associated Phone Number:\", predicted_phone)\n",
        "\n",
        "# Test BAM for phone to ID association\n",
        "test_phone = np.array([1, 0, 1])  # Example phone number\n",
        "predicted_id = bam_association(test_phone, W, direction=\"phone_to_id\")\n",
        "print(\"Associated ID:\", predicted_id)\n"
      ],
      "metadata": {
        "colab": {
          "base_uri": "https://localhost:8080/"
        },
        "id": "v_kU685hXTkC",
        "outputId": "58e3862b-b479-4490-d6c9-6362cf80bcdc"
      },
      "execution_count": 12,
      "outputs": [
        {
          "output_type": "stream",
          "name": "stdout",
          "text": [
            "Associated Phone Number: [1 0 1]\n",
            "Associated ID: [1 1 1]\n"
          ]
        }
      ]
    },
    {
      "cell_type": "code",
      "source": [
        "import numpy as np\n",
        "\n",
        "class HopfieldNetwork:\n",
        "    def __init__(self, patterns):\n",
        "        self.patterns = patterns\n",
        "        self.weights = self.train()\n",
        "\n",
        "    def train(self):\n",
        "        \"\"\"Train the Hopfield network.\"\"\"\n",
        "        n = self.patterns.shape[1]\n",
        "        weights = np.zeros((n, n))\n",
        "        for p in self.patterns:\n",
        "            weights += np.outer(p, p)\n",
        "        np.fill_diagonal(weights, 0)  # No self-connections\n",
        "        return weights\n",
        "\n",
        "    def predict(self, input_pattern, steps=10):\n",
        "        \"\"\"Retrieve a stored pattern from a noisy input.\"\"\"\n",
        "        output = np.copy(input_pattern)\n",
        "        for _ in range(steps):\n",
        "            output = np.sign(np.dot(output, self.weights))\n",
        "        return output\n",
        "\n",
        "# Define stored patterns (binary vectors: +1 or -1)\n",
        "patterns = np.array([\n",
        "    [1, -1, 1, -1],\n",
        "    [-1, 1, -1, 1]\n",
        "])\n",
        "\n",
        "# Initialize Hopfield network\n",
        "hopfield = HopfieldNetwork(patterns)\n",
        "\n",
        "# Test Hopfield network with noisy input\n",
        "noisy_input = np.array([1, -1, -1, -1])  # Noisy version of first pattern\n",
        "corrected_output = hopfield.predict(noisy_input)\n",
        "print(\"Corrected Output:\", corrected_output)\n"
      ],
      "metadata": {
        "colab": {
          "base_uri": "https://localhost:8080/"
        },
        "id": "OPfIRcBYXWEV",
        "outputId": "77d0eede-6912-41cb-c186-aeeb29eba0ff"
      },
      "execution_count": 13,
      "outputs": [
        {
          "output_type": "stream",
          "name": "stdout",
          "text": [
            "Corrected Output: [ 1. -1.  1. -1.]\n"
          ]
        }
      ]
    }
  ]
}