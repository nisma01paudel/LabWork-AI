{
  "nbformat": 4,
  "nbformat_minor": 0,
  "metadata": {
    "colab": {
      "provenance": [],
      "authorship_tag": "ABX9TyPDCGFL4LA0K4xi4l+cMvXh",
      "include_colab_link": true
    },
    "kernelspec": {
      "name": "python3",
      "display_name": "Python 3"
    },
    "language_info": {
      "name": "python"
    }
  },
  "cells": [
    {
      "cell_type": "markdown",
      "metadata": {
        "id": "view-in-github",
        "colab_type": "text"
      },
      "source": [
        "<a href=\"https://colab.research.google.com/github/nisma01paudel/LabWork-AI/blob/master/tictactoeheuristic.ipynb\" target=\"_parent\"><img src=\"https://colab.research.google.com/assets/colab-badge.svg\" alt=\"Open In Colab\"/></a>"
      ]
    },
    {
      "cell_type": "code",
      "execution_count": 1,
      "metadata": {
        "colab": {
          "base_uri": "https://localhost:8080/"
        },
        "id": "6ardru5fVPLo",
        "outputId": "3f83e674-4fb1-4fc1-b9e7-ea8b0e410261"
      },
      "outputs": [
        {
          "output_type": "stream",
          "name": "stdout",
          "text": [
            "Heuristic value: -4\n"
          ]
        }
      ],
      "source": [
        "def calculate_tic_tac_toe_heuristic(board, player):\n",
        "    \"\"\"\n",
        "    Calculate the heuristic value of a Tic-Tac-Toe board.\n",
        "\n",
        "    Parameters:\n",
        "    board (list of list): 3x3 list representing the Tic-Tac-Toe board.\n",
        "                          'X' for Player 1, 'O' for Opponent, '' for empty.\n",
        "    player (str): The player to calculate the heuristic for ('X' or 'O').\n",
        "\n",
        "    Returns:\n",
        "    int: The heuristic value.\n",
        "    \"\"\"\n",
        "    opponent = 'O' if player == 'X' else 'X'\n",
        "    player_open_lines = 0\n",
        "    opponent_open_lines = 0\n",
        "\n",
        "    # Function to check if a line is open for a player\n",
        "    def is_line_open(line, symbol):\n",
        "        return all(cell == symbol or cell == '' for cell in line)\n",
        "\n",
        "    # Check rows\n",
        "    for row in board:\n",
        "        if is_line_open(row, player):\n",
        "            player_open_lines += 1\n",
        "        if is_line_open(row, opponent):\n",
        "            opponent_open_lines += 1\n",
        "\n",
        "    # Check columns\n",
        "    for col in range(3):\n",
        "        column = [board[row][col] for row in range(3)]\n",
        "        if is_line_open(column, player):\n",
        "            player_open_lines += 1\n",
        "        if is_line_open(column, opponent):\n",
        "            opponent_open_lines += 1\n",
        "\n",
        "    # Check diagonals\n",
        "    diagonal1 = [board[i][i] for i in range(3)]\n",
        "    diagonal2 = [board[i][2 - i] for i in range(3)]\n",
        "    if is_line_open(diagonal1, player):\n",
        "        player_open_lines += 1\n",
        "    if is_line_open(diagonal1, opponent):\n",
        "        opponent_open_lines += 1\n",
        "    if is_line_open(diagonal2, player):\n",
        "        player_open_lines += 1\n",
        "    if is_line_open(diagonal2, opponent):\n",
        "        opponent_open_lines += 1\n",
        "\n",
        "    # Heuristic value\n",
        "    heuristic_value = player_open_lines - opponent_open_lines\n",
        "    return heuristic_value\n",
        "\n",
        "\n",
        "# Example usage\n",
        "if __name__ == \"__main__\":\n",
        "    # Define a Tic-Tac-Toe board\n",
        "    board = [\n",
        "        ['X', 'O', 'X'],\n",
        "        ['X', '', 'O'],\n",
        "        ['', '', '']\n",
        "    ]\n",
        "    # Player to calculate heuristic for\n",
        "    player = 'X'\n",
        "    heuristic = calculate_tic_tac_toe_heuristic(board, player)\n",
        "    print(f\"Heuristic value: {heuristic}\")\n"
      ]
    }
  ]
}