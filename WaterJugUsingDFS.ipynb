{
  "nbformat": 4,
  "nbformat_minor": 0,
  "metadata": {
    "colab": {
      "provenance": [],
      "authorship_tag": "ABX9TyMRymHX53nQvlhKqctF0vHn",
      "include_colab_link": true
    },
    "kernelspec": {
      "name": "python3",
      "display_name": "Python 3"
    },
    "language_info": {
      "name": "python"
    }
  },
  "cells": [
    {
      "cell_type": "markdown",
      "metadata": {
        "id": "view-in-github",
        "colab_type": "text"
      },
      "source": [
        "<a href=\"https://colab.research.google.com/github/nisma01paudel/LabWork-AI/blob/master/WaterJugUsingDFS.ipynb\" target=\"_parent\"><img src=\"https://colab.research.google.com/assets/colab-badge.svg\" alt=\"Open In Colab\"/></a>"
      ]
    },
    {
      "cell_type": "code",
      "execution_count": null,
      "metadata": {
        "colab": {
          "base_uri": "https://localhost:8080/"
        },
        "id": "2_T75F8K0efB",
        "outputId": "6f7907d7-ced9-4b89-f207-40888c31e48b"
      },
      "outputs": [
        {
          "output_type": "stream",
          "name": "stdout",
          "text": [
            "Solution path:\n",
            "(0, 0)\n",
            "(4, 0)\n",
            "(4, 3)\n",
            "(0, 3)\n",
            "(3, 0)\n",
            "(3, 3)\n",
            "(4, 2)\n",
            "(0, 2)\n",
            "(2, 0)\n"
          ]
        }
      ],
      "source": [
        "class WaterJugDFS:\n",
        "    def __init__(self, initial_state=(0, 0), goal_state=(2, 0)):\n",
        "        self.initial_state = initial_state\n",
        "        self.goal_state = goal_state\n",
        "\n",
        "    def goalTest(self, current_state):\n",
        "        return current_state == self.goal_state\n",
        "\n",
        "    def successors(self, state):\n",
        "        X, Y = state\n",
        "        succ = []\n",
        "\n",
        "        if X < 4: succ.append((4, Y))  # Fill Jug X\n",
        "        if Y < 3: succ.append((X, 3))  # Fill Jug Y\n",
        "        if X > 0: succ.append((0, Y))  # Empty Jug X\n",
        "        if Y > 0: succ.append((X, 0))  # Empty Jug Y\n",
        "\n",
        "        # Transfer between jugs\n",
        "        if X > 0 and Y < 3:\n",
        "            transfer = min(X, 3 - Y)\n",
        "            succ.append((X - transfer, Y + transfer))\n",
        "        if Y > 0 and X < 4:\n",
        "            transfer = min(Y, 4 - X)\n",
        "            succ.append((X + transfer, Y - transfer))\n",
        "\n",
        "        return succ\n",
        "\n",
        "    def dfs(self, current_state, goal_state, visited, path):\n",
        "        visited.add(current_state)\n",
        "        path.append(current_state)\n",
        "\n",
        "        if self.goalTest(current_state):\n",
        "            return True\n",
        "\n",
        "        for succ in self.successors(current_state):\n",
        "            if succ not in visited:\n",
        "                if self.dfs(succ, goal_state, visited, path):\n",
        "                    return True\n",
        "\n",
        "        path.pop()  # Backtrack\n",
        "        return False\n",
        "\n",
        "    def generate_path(self, initial_state, goal_state):\n",
        "        visited = set()\n",
        "        path = []\n",
        "\n",
        "        if self.dfs(initial_state, goal_state, visited, path):\n",
        "            return path\n",
        "        return None\n",
        "\n",
        "    def run(self, initial_state=None, goal_state=None):\n",
        "        if initial_state is None:\n",
        "            initial_state = self.initial_state\n",
        "        if goal_state is None:\n",
        "            goal_state = self.goal_state\n",
        "\n",
        "        path = self.generate_path(initial_state, goal_state)\n",
        "\n",
        "        if path is None:\n",
        "            print(\"Goal not found.\")\n",
        "        else:\n",
        "            print(\"Solution path:\")\n",
        "            for step in path:\n",
        "                print(step)\n",
        "\n",
        "\n",
        "# Run the DFS solution\n",
        "sol = WaterJugDFS()\n",
        "sol.run()\n"
      ]
    }
  ]
}