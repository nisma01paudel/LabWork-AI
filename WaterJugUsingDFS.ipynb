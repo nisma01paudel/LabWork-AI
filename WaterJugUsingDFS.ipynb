{
  "nbformat": 4,
  "nbformat_minor": 0,
  "metadata": {
    "colab": {
      "provenance": [],
      "authorship_tag": "ABX9TyNvf/MDqlwlbtUVYOXA/JK0",
      "include_colab_link": true
    },
    "kernelspec": {
      "name": "python3",
      "display_name": "Python 3"
    },
    "language_info": {
      "name": "python"
    }
  },
  "cells": [
    {
      "cell_type": "markdown",
      "metadata": {
        "id": "view-in-github",
        "colab_type": "text"
      },
      "source": [
        "<a href=\"https://colab.research.google.com/github/nisma01paudel/LabWork-AI/blob/master/WaterJugUsingDFS.ipynb\" target=\"_parent\"><img src=\"https://colab.research.google.com/assets/colab-badge.svg\" alt=\"Open In Colab\"/></a>"
      ]
    },
    {
      "cell_type": "code",
      "execution_count": 1,
      "metadata": {
        "colab": {
          "base_uri": "https://localhost:8080/"
        },
        "id": "2_T75F8K0efB",
        "outputId": "6f7907d7-ced9-4b89-f207-40888c31e48b"
      },
      "outputs": [
        {
          "output_type": "stream",
          "name": "stdout",
          "text": [
            "Solution path:\n",
            "(0, 0)\n",
            "(4, 0)\n",
            "(4, 3)\n",
            "(0, 3)\n",
            "(3, 0)\n",
            "(3, 3)\n",
            "(4, 2)\n",
            "(0, 2)\n",
            "(2, 0)\n"
          ]
        }
      ],
      "source": [
        "class WaterJug:\n",
        "    def __init__(self, initial_state=(0, 0), goal_state=(2, 0)):\n",
        "        # Define the initial and goal states\n",
        "        self.initial_state = initial_state  # Initial state: (0, 0)\n",
        "        self.goal_state = goal_state  # Goal state: (2, 0)\n",
        "\n",
        "    def successors(self, state):\n",
        "        X, Y = state\n",
        "        succ = []\n",
        "\n",
        "        # Action 1: Fill Jug X\n",
        "        if X < 4:\n",
        "            succ.append((4, Y))\n",
        "\n",
        "        # Action 2: Fill Jug Y\n",
        "        if Y < 3:\n",
        "            succ.append((X, 3))\n",
        "\n",
        "        # Action 3: Empty Jug X\n",
        "        if X > 0:\n",
        "            succ.append((0, Y))\n",
        "\n",
        "        # Action 4: Empty Jug Y\n",
        "        if Y > 0:\n",
        "            succ.append((X, 0))\n",
        "\n",
        "        # Action 5: Pour from X to Y\n",
        "        if X > 0 and Y < 3:\n",
        "            transfer = min(X, 3 - Y)\n",
        "            succ.append((X - transfer, Y + transfer))\n",
        "\n",
        "        # Action 6: Pour from Y to X\n",
        "        if Y > 0 and X < 4:\n",
        "            transfer = min(Y, 4 - X)\n",
        "            succ.append((X + transfer, Y - transfer))\n",
        "\n",
        "        return succ\n",
        "\n",
        "    def dfs(self, current_state, goal_state, visited, path):\n",
        "        # Mark the current state as visited\n",
        "        visited.add(current_state)\n",
        "        path.append(current_state)\n",
        "\n",
        "        # Goal test\n",
        "        if current_state == goal_state:\n",
        "            return True\n",
        "\n",
        "        # Explore successors\n",
        "        for succ in self.successors(current_state):\n",
        "            if succ not in visited:\n",
        "                if self.dfs(succ, goal_state, visited, path):\n",
        "                    return True\n",
        "\n",
        "        # Backtrack\n",
        "        path.pop()\n",
        "        return False\n",
        "\n",
        "    def run(self):\n",
        "        visited = set()  # Set to track visited states\n",
        "        path = []  # List to track the path\n",
        "\n",
        "        # Run DFS\n",
        "        if self.dfs(self.initial_state, self.goal_state, visited, path):\n",
        "            print(\"Solution path:\")\n",
        "            for step in path:\n",
        "                print(step)\n",
        "        else:\n",
        "            print(\"Goal not found\")\n",
        "\n",
        "\n",
        "# Create an instance of the WaterJug class and run it\n",
        "sol = WaterJug()\n",
        "sol.run()\n"
      ]
    }
  ]
}